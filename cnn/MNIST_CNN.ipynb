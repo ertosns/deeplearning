{
 "cells": [
  {
   "cell_type": "markdown",
   "metadata": {
    "id": "BcQ3lp2Z0UdB"
   },
   "source": [
    "#  Import Libraries"
   ]
  },
  {
   "cell_type": "code",
   "execution_count": 1,
   "metadata": {
    "ExecuteTime": {
     "end_time": "2019-05-25T15:24:04.919277Z",
     "start_time": "2019-05-25T15:24:04.914272Z"
    },
    "colab": {
     "base_uri": "https://localhost:8080/",
     "height": 34
    },
    "id": "xNmX6fmd0UdC",
    "outputId": "67b08c3c-014e-4d95-c0f7-0012fc9131e6"
   },
   "outputs": [],
   "source": [
    "import keras\n",
    "from keras.datasets import mnist\n",
    "from keras.models import Sequential\n",
    "from keras.layers import *\n",
    "from keras import backend as K"
   ]
  },
  {
   "cell_type": "markdown",
   "metadata": {
    "id": "oJ0Yfctk0UdF"
   },
   "source": [
    "# Load MNIST Dataset"
   ]
  },
  {
   "cell_type": "code",
   "execution_count": 2,
   "metadata": {
    "colab": {
     "base_uri": "https://localhost:8080/",
     "height": 84
    },
    "id": "j-3aI8A60UdG",
    "outputId": "5ff77542-77c8-447a-8725-ea9e219dec48"
   },
   "outputs": [
    {
     "name": "stdout",
     "output_type": "stream",
     "text": [
      "Downloading data from https://storage.googleapis.com/tensorflow/tf-keras-datasets/mnist.npz\n",
      "11493376/11490434 [==============================] - 6s 1us/step\n",
      "MNIST training set  len =60000\n",
      "MNIST training set  len =10000\n"
     ]
    }
   ],
   "source": [
    "(X_train, y_train), (X_test, y_test) = mnist.load_data()\n",
    "\n",
    "print(\"MNIST training set  len ={}\".format(len(X_train)))\n",
    "print(\"MNIST training set  len ={}\".format(len(X_test)))"
   ]
  },
  {
   "cell_type": "markdown",
   "metadata": {
    "id": "yEXGI6c90UdI"
   },
   "source": [
    "# Scalling Images"
   ]
  },
  {
   "cell_type": "code",
   "execution_count": 3,
   "metadata": {
    "ExecuteTime": {
     "end_time": "2019-05-25T15:05:12.880074Z",
     "start_time": "2019-05-25T15:05:12.654080Z"
    },
    "id": "26sd53Cf0UdI"
   },
   "outputs": [],
   "source": [
    "#--------------------------------------\n",
    "# Scalling Images by 255\n",
    "#--------------------------------------\n",
    "X_train = X_train.astype('float32')\n",
    "X_test = X_test.astype('float32')\n",
    "X_train /= 255\n",
    "X_test /= 255"
   ]
  },
  {
   "cell_type": "markdown",
   "metadata": {
    "id": "Y26_u4Q30UdL"
   },
   "source": [
    "#  Change Output to Categorical"
   ]
  },
  {
   "cell_type": "code",
   "execution_count": 4,
   "metadata": {
    "ExecuteTime": {
     "end_time": "2019-05-25T15:06:06.212750Z",
     "start_time": "2019-05-25T15:06:06.178755Z"
    },
    "id": "AY4qaceP0UdL"
   },
   "outputs": [],
   "source": [
    "#--------------------------------------\n",
    "# Change Output to Categorical\n",
    "#--------------------------------------\n",
    "num_classes = 10\n",
    "y_train = keras.utils.to_categorical(y_train, num_classes)\n",
    "y_test = keras.utils.to_categorical(y_test, num_classes)"
   ]
  },
  {
   "cell_type": "code",
   "execution_count": 5,
   "metadata": {
    "ExecuteTime": {
     "end_time": "2019-05-25T15:06:34.952940Z",
     "start_time": "2019-05-25T15:06:34.912939Z"
    },
    "colab": {
     "base_uri": "https://localhost:8080/",
     "height": 101
    },
    "id": "TMK-Irkx0UdN",
    "outputId": "95f7120c-e247-42fb-c0e9-fe64eb2a04cf",
    "scrolled": false
   },
   "outputs": [
    {
     "data": {
      "text/plain": [
       "array([[0., 0., 0., 0., 0., 1., 0., 0., 0., 0.],\n",
       "       [1., 0., 0., 0., 0., 0., 0., 0., 0., 0.],\n",
       "       [0., 0., 0., 0., 1., 0., 0., 0., 0., 0.],\n",
       "       [0., 1., 0., 0., 0., 0., 0., 0., 0., 0.],\n",
       "       [0., 0., 0., 0., 0., 0., 0., 0., 0., 1.]], dtype=float32)"
      ]
     },
     "execution_count": 5,
     "metadata": {},
     "output_type": "execute_result"
    }
   ],
   "source": [
    "y_train[:5, :]"
   ]
  },
  {
   "cell_type": "markdown",
   "metadata": {
    "id": "stltIrGt0UdQ"
   },
   "source": [
    "#  MNIST-MLP"
   ]
  },
  {
   "cell_type": "markdown",
   "metadata": {
    "id": "ihtdsvcE0UdR"
   },
   "source": [
    "##  Build MLP layers"
   ]
  },
  {
   "cell_type": "code",
   "execution_count": 6,
   "metadata": {
    "ExecuteTime": {
     "end_time": "2019-05-25T15:07:56.504094Z",
     "start_time": "2019-05-25T15:07:55.382094Z"
    },
    "colab": {
     "base_uri": "https://localhost:8080/",
     "height": 353
    },
    "id": "_UbxN6tp0UdR",
    "outputId": "de83be10-58a4-4bcd-b1b2-45677bca3e69"
   },
   "outputs": [
    {
     "name": "stdout",
     "output_type": "stream",
     "text": [
      "Model: \"sequential\"\n",
      "_________________________________________________________________\n",
      "Layer (type)                 Output Shape              Param #   \n",
      "=================================================================\n",
      "flatten (Flatten)            (None, 784)               0         \n",
      "_________________________________________________________________\n",
      "dense (Dense)                (None, 512)               401920    \n",
      "_________________________________________________________________\n",
      "dropout (Dropout)            (None, 512)               0         \n",
      "_________________________________________________________________\n",
      "dense_1 (Dense)              (None, 512)               262656    \n",
      "_________________________________________________________________\n",
      "dropout_1 (Dropout)          (None, 512)               0         \n",
      "_________________________________________________________________\n",
      "dense_2 (Dense)              (None, 10)                5130      \n",
      "=================================================================\n",
      "Total params: 669,706\n",
      "Trainable params: 669,706\n",
      "Non-trainable params: 0\n",
      "_________________________________________________________________\n"
     ]
    }
   ],
   "source": [
    "#--------------------------------------\n",
    "# Build MLP NN mlp\n",
    "#--------------------------------------\n",
    "# define the mlp\n",
    "mlp = Sequential()\n",
    "mlp.add(Flatten(input_shape=X_train.shape[1:]))\n",
    "mlp.add(Dense(512, activation='relu'))\n",
    "mlp.add(Dropout(0.2))\n",
    "mlp.add(Dense(512, activation='relu'))\n",
    "mlp.add(Dropout(0.2))\n",
    "mlp.add(Dense(10, activation='softmax'))\n",
    "\n",
    "mlp.compile(loss='categorical_crossentropy', optimizer='adam', \n",
    "    metrics=['accuracy'])\n",
    "\n",
    "# summarize the mlp\n",
    "mlp.summary()"
   ]
  },
  {
   "cell_type": "markdown",
   "metadata": {
    "id": "pzo2vMK40UdU"
   },
   "source": [
    "##  Trainning MLP"
   ]
  },
  {
   "cell_type": "code",
   "execution_count": 7,
   "metadata": {
    "ExecuteTime": {
     "end_time": "2019-05-25T15:11:12.575072Z",
     "start_time": "2019-05-25T15:09:06.391588Z"
    },
    "colab": {
     "base_uri": "https://localhost:8080/",
     "height": 454
    },
    "id": "o3XC4aEl0UdU",
    "outputId": "1ffc223b-a96b-478a-895a-931fe7d14e49"
   },
   "outputs": [
    {
     "name": "stdout",
     "output_type": "stream",
     "text": [
      "Epoch 1/12\n",
      "469/469 [==============================] - 8s 14ms/step - loss: 0.4524 - accuracy: 0.8644 - val_loss: 0.1026 - val_accuracy: 0.9673\n",
      "Epoch 2/12\n",
      "469/469 [==============================] - 6s 12ms/step - loss: 0.1049 - accuracy: 0.9672 - val_loss: 0.0822 - val_accuracy: 0.9740\n",
      "Epoch 3/12\n",
      "469/469 [==============================] - 6s 13ms/step - loss: 0.0717 - accuracy: 0.9777 - val_loss: 0.0706 - val_accuracy: 0.9786\n",
      "Epoch 4/12\n",
      "469/469 [==============================] - 6s 13ms/step - loss: 0.0516 - accuracy: 0.9835 - val_loss: 0.0779 - val_accuracy: 0.9751\n",
      "Epoch 5/12\n",
      "469/469 [==============================] - 6s 13ms/step - loss: 0.0466 - accuracy: 0.9851 - val_loss: 0.0755 - val_accuracy: 0.9767\n",
      "Epoch 6/12\n",
      "469/469 [==============================] - 6s 12ms/step - loss: 0.0369 - accuracy: 0.9874 - val_loss: 0.0646 - val_accuracy: 0.9813\n",
      "Epoch 7/12\n",
      "469/469 [==============================] - 6s 13ms/step - loss: 0.0293 - accuracy: 0.9901 - val_loss: 0.0652 - val_accuracy: 0.9812\n",
      "Epoch 8/12\n",
      "469/469 [==============================] - 6s 13ms/step - loss: 0.0261 - accuracy: 0.9909 - val_loss: 0.0658 - val_accuracy: 0.9807\n",
      "Epoch 9/12\n",
      "469/469 [==============================] - 6s 13ms/step - loss: 0.0248 - accuracy: 0.9917 - val_loss: 0.0817 - val_accuracy: 0.9785\n",
      "Epoch 10/12\n",
      "469/469 [==============================] - 6s 13ms/step - loss: 0.0221 - accuracy: 0.9929 - val_loss: 0.0682 - val_accuracy: 0.9815\n",
      "Epoch 11/12\n",
      "469/469 [==============================] - 7s 14ms/step - loss: 0.0200 - accuracy: 0.9932 - val_loss: 0.0799 - val_accuracy: 0.9791\n",
      "Epoch 12/12\n",
      "469/469 [==============================] - 6s 13ms/step - loss: 0.0202 - accuracy: 0.9930 - val_loss: 0.0786 - val_accuracy: 0.9794\n"
     ]
    },
    {
     "data": {
      "text/plain": [
       "<tensorflow.python.keras.callbacks.History at 0x7f1059c12f40>"
      ]
     },
     "execution_count": 7,
     "metadata": {},
     "output_type": "execute_result"
    }
   ],
   "source": [
    "batch_size = 128\n",
    "epochs = 12\n",
    "mlp.fit(X_train, y_train,\n",
    "          batch_size=batch_size,\n",
    "          epochs=epochs,\n",
    "          verbose=1,\n",
    "          validation_data=(X_test, y_test))"
   ]
  },
  {
   "cell_type": "markdown",
   "metadata": {
    "id": "SUNXBQRQ0UdW"
   },
   "source": [
    "## Model Evaluation"
   ]
  },
  {
   "cell_type": "code",
   "execution_count": 8,
   "metadata": {
    "ExecuteTime": {
     "end_time": "2019-05-25T15:12:44.491346Z",
     "start_time": "2019-05-25T15:12:43.143119Z"
    },
    "colab": {
     "base_uri": "https://localhost:8080/",
     "height": 50
    },
    "id": "EfKkLipa0UdX",
    "outputId": "cbff2e80-42de-4533-9b47-84e055493911"
   },
   "outputs": [
    {
     "name": "stdout",
     "output_type": "stream",
     "text": [
      "Test loss: 0.07863231748342514\n",
      "Test accuracy: 0.9793999791145325\n"
     ]
    }
   ],
   "source": [
    "score = mlp.evaluate(X_test, y_test, verbose=0)\n",
    "print('Test loss:', score[0])\n",
    "print('Test accuracy:', score[1])"
   ]
  },
  {
   "cell_type": "markdown",
   "metadata": {
    "id": "Tg5PYSw80UdZ"
   },
   "source": [
    "## Model Saving "
   ]
  },
  {
   "cell_type": "code",
   "execution_count": 9,
   "metadata": {
    "ExecuteTime": {
     "end_time": "2019-05-25T15:16:46.030854Z",
     "start_time": "2019-05-25T15:16:44.909250Z"
    },
    "id": "RkRc7LCe0UdZ"
   },
   "outputs": [],
   "source": [
    "mlp.save('MLP-MNIST.h5')"
   ]
  },
  {
   "cell_type": "markdown",
   "metadata": {
    "id": "8NWlVtQH0Udb"
   },
   "source": [
    "#  MNIST - CNN"
   ]
  },
  {
   "cell_type": "markdown",
   "metadata": {
    "id": "hfUk8Y5U0Udc"
   },
   "source": [
    "##  Prepare Image for CNN"
   ]
  },
  {
   "cell_type": "code",
   "execution_count": 10,
   "metadata": {
    "ExecuteTime": {
     "end_time": "2019-05-25T15:25:14.912978Z",
     "start_time": "2019-05-25T15:25:14.906976Z"
    },
    "colab": {
     "base_uri": "https://localhost:8080/",
     "height": 34
    },
    "id": "kxsE5qFz0Udc",
    "outputId": "e32bc49d-0f65-4fb7-9a92-6d13aa193021"
   },
   "outputs": [
    {
     "data": {
      "text/plain": [
       "'channels_last'"
      ]
     },
     "execution_count": 10,
     "metadata": {},
     "output_type": "execute_result"
    }
   ],
   "source": [
    "K.image_data_format()"
   ]
  },
  {
   "cell_type": "code",
   "execution_count": 11,
   "metadata": {
    "ExecuteTime": {
     "end_time": "2019-05-25T15:28:22.553469Z",
     "start_time": "2019-05-25T15:28:22.546458Z"
    },
    "id": "3984ykak0Udf"
   },
   "outputs": [],
   "source": [
    "# input image dimensions\n",
    "img_rows, img_cols = 28, 28\n",
    "if K.image_data_format() == 'channels_first':\n",
    "    X_train = X_train.reshape(X_train.shape[0], 1, img_rows, img_cols)\n",
    "    X_test = X_test.reshape(X_test.shape[0], 1, img_rows, img_cols)\n",
    "    input_shape = (1, img_rows, img_cols)\n",
    "else:\n",
    "    X_train = X_train.reshape(X_train.shape[0], img_rows, img_cols, 1)\n",
    "    X_test = X_test.reshape(X_test.shape[0], img_rows, img_cols, 1)\n",
    "    input_shape = (img_rows, img_cols, 1)"
   ]
  },
  {
   "cell_type": "markdown",
   "metadata": {
    "id": "KSWHVRG90Udh"
   },
   "source": [
    " ## Build CNN"
   ]
  },
  {
   "cell_type": "code",
   "execution_count": 12,
   "metadata": {
    "ExecuteTime": {
     "end_time": "2019-05-25T15:23:17.657443Z",
     "start_time": "2019-05-25T15:23:17.272439Z"
    },
    "colab": {
     "base_uri": "https://localhost:8080/",
     "height": 420
    },
    "id": "CNQUsnHK0Udh",
    "outputId": "7087fdf6-0d0f-4288-9e29-9da2e189d756"
   },
   "outputs": [
    {
     "name": "stdout",
     "output_type": "stream",
     "text": [
      "Model: \"sequential_1\"\n",
      "_________________________________________________________________\n",
      "Layer (type)                 Output Shape              Param #   \n",
      "=================================================================\n",
      "conv2d (Conv2D)              (None, 26, 26, 32)        320       \n",
      "_________________________________________________________________\n",
      "conv2d_1 (Conv2D)            (None, 24, 24, 64)        18496     \n",
      "_________________________________________________________________\n",
      "max_pooling2d (MaxPooling2D) (None, 12, 12, 64)        0         \n",
      "_________________________________________________________________\n",
      "dropout_2 (Dropout)          (None, 12, 12, 64)        0         \n",
      "_________________________________________________________________\n",
      "flatten_1 (Flatten)          (None, 9216)              0         \n",
      "_________________________________________________________________\n",
      "dense_3 (Dense)              (None, 128)               1179776   \n",
      "_________________________________________________________________\n",
      "dropout_3 (Dropout)          (None, 128)               0         \n",
      "_________________________________________________________________\n",
      "dense_4 (Dense)              (None, 10)                1290      \n",
      "=================================================================\n",
      "Total params: 1,199,882\n",
      "Trainable params: 1,199,882\n",
      "Non-trainable params: 0\n",
      "_________________________________________________________________\n"
     ]
    }
   ],
   "source": [
    "cnn = Sequential()\n",
    "cnn.add(Conv2D(32, kernel_size=(3, 3),\n",
    "                 activation='relu',\n",
    "                 input_shape=input_shape))\n",
    "cnn.add(Conv2D(64, (3, 3), activation='relu'))\n",
    "cnn.add(MaxPooling2D(pool_size=(2, 2)))\n",
    "cnn.add(Dropout(0.25))\n",
    "cnn.add(Flatten())\n",
    "cnn.add(Dense(128, activation='relu'))\n",
    "cnn.add(Dropout(0.5))\n",
    "cnn.add(Dense(num_classes, activation='softmax'))\n",
    "\n",
    "cnn.compile(loss=keras.losses.categorical_crossentropy,\n",
    "              optimizer=keras.optimizers.RMSprop(),\n",
    "              metrics=['accuracy'])\n",
    "cnn.summary()"
   ]
  },
  {
   "cell_type": "markdown",
   "metadata": {
    "id": "2NrVzPPA0Udj"
   },
   "source": [
    "## Training CNN"
   ]
  },
  {
   "cell_type": "code",
   "execution_count": 13,
   "metadata": {
    "ExecuteTime": {
     "end_time": "2019-05-25T15:38:17.749047Z",
     "start_time": "2019-05-25T15:33:02.899857Z"
    },
    "colab": {
     "base_uri": "https://localhost:8080/",
     "height": 454
    },
    "id": "WZjOlU3A0Udj",
    "outputId": "caaa2dae-3025-468e-aceb-857e195dbe5f"
   },
   "outputs": [
    {
     "name": "stdout",
     "output_type": "stream",
     "text": [
      "Epoch 1/12\n",
      "469/469 [==============================] - 118s 247ms/step - loss: 0.4440 - accuracy: 0.8600 - val_loss: 0.0562 - val_accuracy: 0.9816\n",
      "Epoch 2/12\n",
      "469/469 [==============================] - 110s 236ms/step - loss: 0.0823 - accuracy: 0.9764 - val_loss: 0.0464 - val_accuracy: 0.9836\n",
      "Epoch 3/12\n",
      "469/469 [==============================] - 103s 219ms/step - loss: 0.0620 - accuracy: 0.9821 - val_loss: 0.0383 - val_accuracy: 0.9882\n",
      "Epoch 4/12\n",
      "469/469 [==============================] - 95s 202ms/step - loss: 0.0529 - accuracy: 0.9847 - val_loss: 0.0351 - val_accuracy: 0.9896\n",
      "Epoch 5/12\n",
      "469/469 [==============================] - 95s 202ms/step - loss: 0.0471 - accuracy: 0.9860 - val_loss: 0.0328 - val_accuracy: 0.9898\n",
      "Epoch 6/12\n",
      "469/469 [==============================] - 92s 196ms/step - loss: 0.0475 - accuracy: 0.9861 - val_loss: 0.0282 - val_accuracy: 0.9915\n",
      "Epoch 7/12\n",
      "469/469 [==============================] - 92s 196ms/step - loss: 0.0464 - accuracy: 0.9864 - val_loss: 0.0349 - val_accuracy: 0.9900\n",
      "Epoch 8/12\n",
      "469/469 [==============================] - 90s 193ms/step - loss: 0.0485 - accuracy: 0.9863 - val_loss: 0.0345 - val_accuracy: 0.9903\n",
      "Epoch 9/12\n",
      "469/469 [==============================] - 90s 192ms/step - loss: 0.0484 - accuracy: 0.9864 - val_loss: 0.0358 - val_accuracy: 0.9902\n",
      "Epoch 10/12\n",
      "469/469 [==============================] - 92s 196ms/step - loss: 0.0450 - accuracy: 0.9871 - val_loss: 0.0364 - val_accuracy: 0.9905\n",
      "Epoch 11/12\n",
      "469/469 [==============================] - 96s 206ms/step - loss: 0.0540 - accuracy: 0.9859 - val_loss: 0.0396 - val_accuracy: 0.9903\n",
      "Epoch 12/12\n",
      "469/469 [==============================] - 91s 194ms/step - loss: 0.0507 - accuracy: 0.9854 - val_loss: 0.0331 - val_accuracy: 0.9909\n"
     ]
    },
    {
     "data": {
      "text/plain": [
       "<tensorflow.python.keras.callbacks.History at 0x7f104c1f8a90>"
      ]
     },
     "execution_count": 13,
     "metadata": {},
     "output_type": "execute_result"
    }
   ],
   "source": [
    "cnn.fit(X_train, y_train,\n",
    "          batch_size=batch_size,\n",
    "          epochs=epochs,\n",
    "          verbose=1,\n",
    "          validation_data=(X_test, y_test))"
   ]
  },
  {
   "cell_type": "markdown",
   "metadata": {
    "id": "ffSyJk8e0Udm"
   },
   "source": [
    "## Model Evaluation "
   ]
  },
  {
   "cell_type": "code",
   "execution_count": 14,
   "metadata": {
    "ExecuteTime": {
     "end_time": "2019-05-25T15:40:01.754999Z",
     "start_time": "2019-05-25T15:39:59.483656Z"
    },
    "colab": {
     "base_uri": "https://localhost:8080/",
     "height": 50
    },
    "id": "n_F298Jb0Udm",
    "outputId": "defbfa6e-dedb-4b4b-ef28-10e9e8ce8122"
   },
   "outputs": [
    {
     "name": "stdout",
     "output_type": "stream",
     "text": [
      "Test loss: 0.033067964017391205\n",
      "Test accuracy: 0.9908999800682068\n"
     ]
    }
   ],
   "source": [
    "score = cnn.evaluate(X_test, y_test, verbose=0)\n",
    "print('Test loss:', score[0])\n",
    "print('Test accuracy:', score[1])"
   ]
  },
  {
   "cell_type": "code",
   "execution_count": 16,
   "metadata": {},
   "outputs": [
    {
     "data": {
      "text/plain": [
       "(28, 28, 1)"
      ]
     },
     "execution_count": 16,
     "metadata": {},
     "output_type": "execute_result"
    }
   ],
   "source": [
    "X_test[0].shape"
   ]
  },
  {
   "cell_type": "code",
   "execution_count": 19,
   "metadata": {},
   "outputs": [
    {
     "data": {
      "text/plain": [
       "array([[6.2048650e-10, 4.3249182e-09, 1.3217575e-06, 1.9632378e-06,\n",
       "        7.1918578e-09, 1.5210229e-10, 4.0860876e-14, 9.9998891e-01,\n",
       "        7.1774046e-08, 7.7997938e-06]], dtype=float32)"
      ]
     },
     "execution_count": 19,
     "metadata": {},
     "output_type": "execute_result"
    }
   ],
   "source": [
    "cnn.predict(X_test[0].reshape(1,28,28,1))"
   ]
  },
  {
   "cell_type": "markdown",
   "metadata": {
    "id": "f6NzCigP0Udo"
   },
   "source": [
    "##  Model Saving"
   ]
  },
  {
   "cell_type": "code",
   "execution_count": null,
   "metadata": {
    "ExecuteTime": {
     "end_time": "2019-05-25T15:40:10.883700Z",
     "start_time": "2019-05-25T15:40:10.283696Z"
    },
    "id": "FygLAXOL0Udp"
   },
   "outputs": [],
   "source": [
    "cnn.save('CNN-MNIST.h5')"
   ]
  },
  {
   "cell_type": "code",
   "execution_count": null,
   "metadata": {
    "id": "Je0csRlO0Udr"
   },
   "outputs": [],
   "source": []
  }
 ],
 "metadata": {
  "accelerator": "GPU",
  "colab": {
   "name": "MNIST-CNN.ipynb",
   "provenance": []
  },
  "kernelspec": {
   "display_name": "Python 3",
   "language": "python",
   "name": "python3"
  },
  "language_info": {
   "codemirror_mode": {
    "name": "ipython",
    "version": 3
   },
   "file_extension": ".py",
   "mimetype": "text/x-python",
   "name": "python",
   "nbconvert_exporter": "python",
   "pygments_lexer": "ipython3",
   "version": "3.8.10"
  },
  "latex_envs": {
   "LaTeX_envs_menu_present": true,
   "autoclose": true,
   "autocomplete": true,
   "bibliofile": "biblio.bib",
   "cite_by": "apalike",
   "current_citInitial": 1,
   "eqLabelWithNumbers": true,
   "eqNumInitial": 1,
   "hotkeys": {
    "equation": "Ctrl-E",
    "itemize": "Ctrl-I"
   },
   "labels_anchors": false,
   "latex_user_defs": false,
   "report_style_numbering": true,
   "user_envs_cfg": true
  },
  "toc": {
   "base_numbering": 1,
   "nav_menu": {},
   "number_sections": true,
   "sideBar": true,
   "skip_h1_title": false,
   "title_cell": "Table of Contents",
   "title_sidebar": "Contents",
   "toc_cell": false,
   "toc_position": {},
   "toc_section_display": true,
   "toc_window_display": true
  }
 },
 "nbformat": 4,
 "nbformat_minor": 1
}
