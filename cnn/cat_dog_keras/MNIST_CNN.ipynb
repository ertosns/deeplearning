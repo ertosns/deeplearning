{
  "nbformat": 4,
  "nbformat_minor": 0,
  "metadata": {
    "kernelspec": {
      "display_name": "Python 3",
      "language": "python",
      "name": "python3"
    },
    "language_info": {
      "codemirror_mode": {
        "name": "ipython",
        "version": 3
      },
      "file_extension": ".py",
      "mimetype": "text/x-python",
      "name": "python",
      "nbconvert_exporter": "python",
      "pygments_lexer": "ipython3",
      "version": "3.6.5"
    },
    "toc": {
      "base_numbering": 1,
      "nav_menu": {},
      "number_sections": true,
      "sideBar": true,
      "skip_h1_title": false,
      "title_cell": "Table of Contents",
      "title_sidebar": "Contents",
      "toc_cell": false,
      "toc_position": {},
      "toc_section_display": true,
      "toc_window_display": true
    },
    "colab": {
      "name": "MNIST-CNN.ipynb",
      "provenance": []
    },
    "accelerator": "GPU"
  },
  "cells": [
    {
      "cell_type": "markdown",
      "metadata": {
        "id": "BcQ3lp2Z0UdB"
      },
      "source": [
        "#  Import Libraries"
      ]
    },
    {
      "cell_type": "code",
      "metadata": {
        "ExecuteTime": {
          "end_time": "2019-05-25T15:24:04.919277Z",
          "start_time": "2019-05-25T15:24:04.914272Z"
        },
        "id": "xNmX6fmd0UdC",
        "outputId": "67b08c3c-014e-4d95-c0f7-0012fc9131e6",
        "colab": {
          "base_uri": "https://localhost:8080/",
          "height": 34
        }
      },
      "source": [
        "import keras\n",
        "from keras.datasets import mnist\n",
        "from keras.models import Sequential\n",
        "from keras.layers import *\n",
        "from keras import backend as K"
      ],
      "execution_count": null,
      "outputs": [
        {
          "output_type": "stream",
          "text": [
            "Using TensorFlow backend.\n"
          ],
          "name": "stderr"
        }
      ]
    },
    {
      "cell_type": "markdown",
      "metadata": {
        "id": "oJ0Yfctk0UdF"
      },
      "source": [
        "# Load MNIST Dataset"
      ]
    },
    {
      "cell_type": "code",
      "metadata": {
        "id": "j-3aI8A60UdG",
        "outputId": "5ff77542-77c8-447a-8725-ea9e219dec48",
        "colab": {
          "base_uri": "https://localhost:8080/",
          "height": 84
        }
      },
      "source": [
        "(X_train, y_train), (X_test, y_test) = mnist.load_data()\n",
        "\n",
        "print(\"MNIST training set  len ={}\".format(len(X_train)))\n",
        "print(\"MNIST training set  len ={}\".format(len(X_test)))"
      ],
      "execution_count": null,
      "outputs": [
        {
          "output_type": "stream",
          "text": [
            "Downloading data from https://s3.amazonaws.com/img-datasets/mnist.npz\n",
            "11493376/11490434 [==============================] - 1s 0us/step\n",
            "MNIST training set  len =60000\n",
            "MNIST training set  len =10000\n"
          ],
          "name": "stdout"
        }
      ]
    },
    {
      "cell_type": "markdown",
      "metadata": {
        "id": "yEXGI6c90UdI"
      },
      "source": [
        "# Scalling Images"
      ]
    },
    {
      "cell_type": "code",
      "metadata": {
        "ExecuteTime": {
          "end_time": "2019-05-25T15:05:12.880074Z",
          "start_time": "2019-05-25T15:05:12.654080Z"
        },
        "id": "26sd53Cf0UdI"
      },
      "source": [
        "#--------------------------------------\n",
        "# Scalling Images by 255\n",
        "#--------------------------------------\n",
        "X_train = X_train.astype('float32')\n",
        "X_test = X_test.astype('float32')\n",
        "X_train /= 255\n",
        "X_test /= 255"
      ],
      "execution_count": null,
      "outputs": []
    },
    {
      "cell_type": "markdown",
      "metadata": {
        "id": "Y26_u4Q30UdL"
      },
      "source": [
        "#  Change Output to Categorical"
      ]
    },
    {
      "cell_type": "code",
      "metadata": {
        "ExecuteTime": {
          "end_time": "2019-05-25T15:06:06.212750Z",
          "start_time": "2019-05-25T15:06:06.178755Z"
        },
        "id": "AY4qaceP0UdL"
      },
      "source": [
        "#--------------------------------------\n",
        "# Change Output to Categorical\n",
        "#--------------------------------------\n",
        "num_classes = 10\n",
        "y_train = keras.utils.to_categorical(y_train, num_classes)\n",
        "y_test = keras.utils.to_categorical(y_test, num_classes)"
      ],
      "execution_count": null,
      "outputs": []
    },
    {
      "cell_type": "code",
      "metadata": {
        "ExecuteTime": {
          "end_time": "2019-05-25T15:06:34.952940Z",
          "start_time": "2019-05-25T15:06:34.912939Z"
        },
        "scrolled": false,
        "id": "TMK-Irkx0UdN",
        "outputId": "95f7120c-e247-42fb-c0e9-fe64eb2a04cf",
        "colab": {
          "base_uri": "https://localhost:8080/",
          "height": 101
        }
      },
      "source": [
        "y_train[:5, :]"
      ],
      "execution_count": null,
      "outputs": [
        {
          "output_type": "execute_result",
          "data": {
            "text/plain": [
              "array([[0., 0., 0., 0., 0., 1., 0., 0., 0., 0.],\n",
              "       [1., 0., 0., 0., 0., 0., 0., 0., 0., 0.],\n",
              "       [0., 0., 0., 0., 1., 0., 0., 0., 0., 0.],\n",
              "       [0., 1., 0., 0., 0., 0., 0., 0., 0., 0.],\n",
              "       [0., 0., 0., 0., 0., 0., 0., 0., 0., 1.]], dtype=float32)"
            ]
          },
          "metadata": {
            "tags": []
          },
          "execution_count": 5
        }
      ]
    },
    {
      "cell_type": "markdown",
      "metadata": {
        "id": "stltIrGt0UdQ"
      },
      "source": [
        "#  MNIST-MLP"
      ]
    },
    {
      "cell_type": "markdown",
      "metadata": {
        "id": "ihtdsvcE0UdR"
      },
      "source": [
        "##  Build MLP layers"
      ]
    },
    {
      "cell_type": "code",
      "metadata": {
        "ExecuteTime": {
          "end_time": "2019-05-25T15:07:56.504094Z",
          "start_time": "2019-05-25T15:07:55.382094Z"
        },
        "id": "_UbxN6tp0UdR",
        "outputId": "de83be10-58a4-4bcd-b1b2-45677bca3e69",
        "colab": {
          "base_uri": "https://localhost:8080/",
          "height": 353
        }
      },
      "source": [
        "#--------------------------------------\n",
        "# Build MLP NN mlp\n",
        "#--------------------------------------\n",
        "# define the mlp\n",
        "mlp = Sequential()\n",
        "mlp.add(Flatten(input_shape=X_train.shape[1:]))\n",
        "mlp.add(Dense(512, activation='relu'))\n",
        "mlp.add(Dropout(0.2))\n",
        "mlp.add(Dense(512, activation='relu'))\n",
        "mlp.add(Dropout(0.2))\n",
        "mlp.add(Dense(10, activation='softmax'))\n",
        "\n",
        "mlp.compile(loss='categorical_crossentropy', optimizer='adam', \n",
        "    metrics=['accuracy'])\n",
        "\n",
        "# summarize the mlp\n",
        "mlp.summary()"
      ],
      "execution_count": null,
      "outputs": [
        {
          "output_type": "stream",
          "text": [
            "Model: \"sequential_1\"\n",
            "_________________________________________________________________\n",
            "Layer (type)                 Output Shape              Param #   \n",
            "=================================================================\n",
            "flatten_1 (Flatten)          (None, 784)               0         \n",
            "_________________________________________________________________\n",
            "dense_1 (Dense)              (None, 512)               401920    \n",
            "_________________________________________________________________\n",
            "dropout_1 (Dropout)          (None, 512)               0         \n",
            "_________________________________________________________________\n",
            "dense_2 (Dense)              (None, 512)               262656    \n",
            "_________________________________________________________________\n",
            "dropout_2 (Dropout)          (None, 512)               0         \n",
            "_________________________________________________________________\n",
            "dense_3 (Dense)              (None, 10)                5130      \n",
            "=================================================================\n",
            "Total params: 669,706\n",
            "Trainable params: 669,706\n",
            "Non-trainable params: 0\n",
            "_________________________________________________________________\n"
          ],
          "name": "stdout"
        }
      ]
    },
    {
      "cell_type": "markdown",
      "metadata": {
        "id": "pzo2vMK40UdU"
      },
      "source": [
        "##  Trainning MLP"
      ]
    },
    {
      "cell_type": "code",
      "metadata": {
        "ExecuteTime": {
          "end_time": "2019-05-25T15:11:12.575072Z",
          "start_time": "2019-05-25T15:09:06.391588Z"
        },
        "id": "o3XC4aEl0UdU",
        "outputId": "1ffc223b-a96b-478a-895a-931fe7d14e49",
        "colab": {
          "base_uri": "https://localhost:8080/",
          "height": 454
        }
      },
      "source": [
        "batch_size = 128\n",
        "epochs = 12\n",
        "mlp.fit(X_train, y_train,\n",
        "          batch_size=batch_size,\n",
        "          epochs=epochs,\n",
        "          verbose=1,\n",
        "          validation_data=(X_test, y_test))"
      ],
      "execution_count": null,
      "outputs": [
        {
          "output_type": "stream",
          "text": [
            "Train on 60000 samples, validate on 10000 samples\n",
            "Epoch 1/12\n",
            "60000/60000 [==============================] - 3s 57us/step - loss: 0.2506 - accuracy: 0.9250 - val_loss: 0.1080 - val_accuracy: 0.9665\n",
            "Epoch 2/12\n",
            "60000/60000 [==============================] - 2s 29us/step - loss: 0.1020 - accuracy: 0.9679 - val_loss: 0.0763 - val_accuracy: 0.9765\n",
            "Epoch 3/12\n",
            "60000/60000 [==============================] - 2s 28us/step - loss: 0.0719 - accuracy: 0.9769 - val_loss: 0.0824 - val_accuracy: 0.9758\n",
            "Epoch 4/12\n",
            "60000/60000 [==============================] - 2s 28us/step - loss: 0.0555 - accuracy: 0.9823 - val_loss: 0.0690 - val_accuracy: 0.9785\n",
            "Epoch 5/12\n",
            "60000/60000 [==============================] - 2s 28us/step - loss: 0.0461 - accuracy: 0.9853 - val_loss: 0.0814 - val_accuracy: 0.9765\n",
            "Epoch 6/12\n",
            "60000/60000 [==============================] - 2s 29us/step - loss: 0.0392 - accuracy: 0.9869 - val_loss: 0.0762 - val_accuracy: 0.9783\n",
            "Epoch 7/12\n",
            "60000/60000 [==============================] - 2s 28us/step - loss: 0.0355 - accuracy: 0.9886 - val_loss: 0.0660 - val_accuracy: 0.9798\n",
            "Epoch 8/12\n",
            "60000/60000 [==============================] - 2s 28us/step - loss: 0.0313 - accuracy: 0.9899 - val_loss: 0.0719 - val_accuracy: 0.9810\n",
            "Epoch 9/12\n",
            "60000/60000 [==============================] - 2s 28us/step - loss: 0.0275 - accuracy: 0.9910 - val_loss: 0.0715 - val_accuracy: 0.9811\n",
            "Epoch 10/12\n",
            "60000/60000 [==============================] - 2s 28us/step - loss: 0.0267 - accuracy: 0.9911 - val_loss: 0.0694 - val_accuracy: 0.9821\n",
            "Epoch 11/12\n",
            "60000/60000 [==============================] - 2s 28us/step - loss: 0.0227 - accuracy: 0.9926 - val_loss: 0.0659 - val_accuracy: 0.9837\n",
            "Epoch 12/12\n",
            "60000/60000 [==============================] - 2s 28us/step - loss: 0.0205 - accuracy: 0.9933 - val_loss: 0.0769 - val_accuracy: 0.9801\n"
          ],
          "name": "stdout"
        },
        {
          "output_type": "execute_result",
          "data": {
            "text/plain": [
              "<keras.callbacks.callbacks.History at 0x7f933a6e7a90>"
            ]
          },
          "metadata": {
            "tags": []
          },
          "execution_count": 7
        }
      ]
    },
    {
      "cell_type": "markdown",
      "metadata": {
        "id": "SUNXBQRQ0UdW"
      },
      "source": [
        "## Model Evaluation"
      ]
    },
    {
      "cell_type": "code",
      "metadata": {
        "ExecuteTime": {
          "end_time": "2019-05-25T15:12:44.491346Z",
          "start_time": "2019-05-25T15:12:43.143119Z"
        },
        "id": "EfKkLipa0UdX",
        "outputId": "cbff2e80-42de-4533-9b47-84e055493911",
        "colab": {
          "base_uri": "https://localhost:8080/",
          "height": 50
        }
      },
      "source": [
        "score = mlp.evaluate(X_test, y_test, verbose=0)\n",
        "print('Test loss:', score[0])\n",
        "print('Test accuracy:', score[1])"
      ],
      "execution_count": null,
      "outputs": [
        {
          "output_type": "stream",
          "text": [
            "Test loss: 0.07689996974503974\n",
            "Test accuracy: 0.9800999760627747\n"
          ],
          "name": "stdout"
        }
      ]
    },
    {
      "cell_type": "markdown",
      "metadata": {
        "id": "Tg5PYSw80UdZ"
      },
      "source": [
        "## Model Saving "
      ]
    },
    {
      "cell_type": "code",
      "metadata": {
        "ExecuteTime": {
          "end_time": "2019-05-25T15:16:46.030854Z",
          "start_time": "2019-05-25T15:16:44.909250Z"
        },
        "id": "RkRc7LCe0UdZ"
      },
      "source": [
        "mlp.save('MLP-MNIST.h5')"
      ],
      "execution_count": null,
      "outputs": []
    },
    {
      "cell_type": "markdown",
      "metadata": {
        "id": "8NWlVtQH0Udb"
      },
      "source": [
        "#  MNIST - CNN"
      ]
    },
    {
      "cell_type": "markdown",
      "metadata": {
        "id": "hfUk8Y5U0Udc"
      },
      "source": [
        "##  Prepare Image for CNN"
      ]
    },
    {
      "cell_type": "code",
      "metadata": {
        "ExecuteTime": {
          "end_time": "2019-05-25T15:25:14.912978Z",
          "start_time": "2019-05-25T15:25:14.906976Z"
        },
        "id": "kxsE5qFz0Udc",
        "outputId": "e32bc49d-0f65-4fb7-9a92-6d13aa193021",
        "colab": {
          "base_uri": "https://localhost:8080/",
          "height": 34
        }
      },
      "source": [
        "K.image_data_format()"
      ],
      "execution_count": null,
      "outputs": [
        {
          "output_type": "execute_result",
          "data": {
            "text/plain": [
              "'channels_last'"
            ]
          },
          "metadata": {
            "tags": []
          },
          "execution_count": 10
        }
      ]
    },
    {
      "cell_type": "code",
      "metadata": {
        "ExecuteTime": {
          "end_time": "2019-05-25T15:28:22.553469Z",
          "start_time": "2019-05-25T15:28:22.546458Z"
        },
        "id": "3984ykak0Udf"
      },
      "source": [
        "# input image dimensions\n",
        "img_rows, img_cols = 28, 28\n",
        "if K.image_data_format() == 'channels_first':\n",
        "    X_train = X_train.reshape(X_train.shape[0], 1, img_rows, img_cols)\n",
        "    X_test = X_test.reshape(X_test.shape[0], 1, img_rows, img_cols)\n",
        "    input_shape = (1, img_rows, img_cols)\n",
        "else:\n",
        "    X_train = X_train.reshape(X_train.shape[0], img_rows, img_cols, 1)\n",
        "    X_test = X_test.reshape(X_test.shape[0], img_rows, img_cols, 1)\n",
        "    input_shape = (img_rows, img_cols, 1)"
      ],
      "execution_count": null,
      "outputs": []
    },
    {
      "cell_type": "markdown",
      "metadata": {
        "id": "KSWHVRG90Udh"
      },
      "source": [
        " ## Build CNN"
      ]
    },
    {
      "cell_type": "code",
      "metadata": {
        "ExecuteTime": {
          "end_time": "2019-05-25T15:23:17.657443Z",
          "start_time": "2019-05-25T15:23:17.272439Z"
        },
        "id": "CNQUsnHK0Udh",
        "outputId": "7087fdf6-0d0f-4288-9e29-9da2e189d756",
        "colab": {
          "base_uri": "https://localhost:8080/",
          "height": 420
        }
      },
      "source": [
        "cnn = Sequential()\n",
        "cnn.add(Conv2D(32, kernel_size=(3, 3),\n",
        "                 activation='relu',\n",
        "                 input_shape=input_shape))\n",
        "cnn.add(Conv2D(64, (3, 3), activation='relu'))\n",
        "cnn.add(MaxPooling2D(pool_size=(2, 2)))\n",
        "cnn.add(Dropout(0.25))\n",
        "cnn.add(Flatten())\n",
        "cnn.add(Dense(128, activation='relu'))\n",
        "cnn.add(Dropout(0.5))\n",
        "cnn.add(Dense(num_classes, activation='softmax'))\n",
        "\n",
        "cnn.compile(loss=keras.losses.categorical_crossentropy,\n",
        "              optimizer=keras.optimizers.Adadelta(),\n",
        "              metrics=['accuracy'])\n",
        "cnn.summary()"
      ],
      "execution_count": null,
      "outputs": [
        {
          "output_type": "stream",
          "text": [
            "Model: \"sequential_2\"\n",
            "_________________________________________________________________\n",
            "Layer (type)                 Output Shape              Param #   \n",
            "=================================================================\n",
            "conv2d_1 (Conv2D)            (None, 26, 26, 32)        320       \n",
            "_________________________________________________________________\n",
            "conv2d_2 (Conv2D)            (None, 24, 24, 64)        18496     \n",
            "_________________________________________________________________\n",
            "max_pooling2d_1 (MaxPooling2 (None, 12, 12, 64)        0         \n",
            "_________________________________________________________________\n",
            "dropout_3 (Dropout)          (None, 12, 12, 64)        0         \n",
            "_________________________________________________________________\n",
            "flatten_2 (Flatten)          (None, 9216)              0         \n",
            "_________________________________________________________________\n",
            "dense_4 (Dense)              (None, 128)               1179776   \n",
            "_________________________________________________________________\n",
            "dropout_4 (Dropout)          (None, 128)               0         \n",
            "_________________________________________________________________\n",
            "dense_5 (Dense)              (None, 10)                1290      \n",
            "=================================================================\n",
            "Total params: 1,199,882\n",
            "Trainable params: 1,199,882\n",
            "Non-trainable params: 0\n",
            "_________________________________________________________________\n"
          ],
          "name": "stdout"
        }
      ]
    },
    {
      "cell_type": "markdown",
      "metadata": {
        "id": "2NrVzPPA0Udj"
      },
      "source": [
        "## Training CNN"
      ]
    },
    {
      "cell_type": "code",
      "metadata": {
        "ExecuteTime": {
          "end_time": "2019-05-25T15:38:17.749047Z",
          "start_time": "2019-05-25T15:33:02.899857Z"
        },
        "id": "WZjOlU3A0Udj",
        "outputId": "caaa2dae-3025-468e-aceb-857e195dbe5f",
        "colab": {
          "base_uri": "https://localhost:8080/",
          "height": 454
        }
      },
      "source": [
        "cnn.fit(X_train, y_train,\n",
        "          batch_size=batch_size,\n",
        "          epochs=epochs,\n",
        "          verbose=1,\n",
        "          validation_data=(X_test, y_test))"
      ],
      "execution_count": null,
      "outputs": [
        {
          "output_type": "stream",
          "text": [
            "Train on 60000 samples, validate on 10000 samples\n",
            "Epoch 1/12\n",
            "60000/60000 [==============================] - 8s 132us/step - loss: 0.2648 - accuracy: 0.9182 - val_loss: 0.0560 - val_accuracy: 0.9827\n",
            "Epoch 2/12\n",
            "60000/60000 [==============================] - 3s 56us/step - loss: 0.0904 - accuracy: 0.9732 - val_loss: 0.0415 - val_accuracy: 0.9864\n",
            "Epoch 3/12\n",
            "60000/60000 [==============================] - 3s 56us/step - loss: 0.0671 - accuracy: 0.9799 - val_loss: 0.0366 - val_accuracy: 0.9877\n",
            "Epoch 4/12\n",
            "60000/60000 [==============================] - 3s 56us/step - loss: 0.0567 - accuracy: 0.9834 - val_loss: 0.0310 - val_accuracy: 0.9892\n",
            "Epoch 5/12\n",
            "60000/60000 [==============================] - 3s 56us/step - loss: 0.0480 - accuracy: 0.9855 - val_loss: 0.0306 - val_accuracy: 0.9906\n",
            "Epoch 6/12\n",
            "60000/60000 [==============================] - 3s 56us/step - loss: 0.0421 - accuracy: 0.9869 - val_loss: 0.0279 - val_accuracy: 0.9905\n",
            "Epoch 7/12\n",
            "60000/60000 [==============================] - 3s 58us/step - loss: 0.0385 - accuracy: 0.9882 - val_loss: 0.0270 - val_accuracy: 0.9914\n",
            "Epoch 8/12\n",
            "60000/60000 [==============================] - 3s 57us/step - loss: 0.0352 - accuracy: 0.9892 - val_loss: 0.0284 - val_accuracy: 0.9907\n",
            "Epoch 9/12\n",
            "60000/60000 [==============================] - 3s 56us/step - loss: 0.0322 - accuracy: 0.9899 - val_loss: 0.0289 - val_accuracy: 0.9908\n",
            "Epoch 10/12\n",
            "60000/60000 [==============================] - 3s 55us/step - loss: 0.0296 - accuracy: 0.9909 - val_loss: 0.0270 - val_accuracy: 0.9914\n",
            "Epoch 11/12\n",
            "60000/60000 [==============================] - 3s 56us/step - loss: 0.0284 - accuracy: 0.9914 - val_loss: 0.0278 - val_accuracy: 0.9917\n",
            "Epoch 12/12\n",
            "60000/60000 [==============================] - 3s 56us/step - loss: 0.0271 - accuracy: 0.9912 - val_loss: 0.0313 - val_accuracy: 0.9909\n"
          ],
          "name": "stdout"
        },
        {
          "output_type": "execute_result",
          "data": {
            "text/plain": [
              "<keras.callbacks.callbacks.History at 0x7f92c7747438>"
            ]
          },
          "metadata": {
            "tags": []
          },
          "execution_count": 13
        }
      ]
    },
    {
      "cell_type": "markdown",
      "metadata": {
        "id": "ffSyJk8e0Udm"
      },
      "source": [
        "## Model Evaluation "
      ]
    },
    {
      "cell_type": "code",
      "metadata": {
        "ExecuteTime": {
          "end_time": "2019-05-25T15:40:01.754999Z",
          "start_time": "2019-05-25T15:39:59.483656Z"
        },
        "id": "n_F298Jb0Udm",
        "outputId": "defbfa6e-dedb-4b4b-ef28-10e9e8ce8122",
        "colab": {
          "base_uri": "https://localhost:8080/",
          "height": 50
        }
      },
      "source": [
        "score = cnn.evaluate(X_test, y_test, verbose=0)\n",
        "print('Test loss:', score[0])\n",
        "print('Test accuracy:', score[1])"
      ],
      "execution_count": null,
      "outputs": [
        {
          "output_type": "stream",
          "text": [
            "Test loss: 0.031298850555110495\n",
            "Test accuracy: 0.9908999800682068\n"
          ],
          "name": "stdout"
        }
      ]
    },
    {
      "cell_type": "markdown",
      "metadata": {
        "id": "f6NzCigP0Udo"
      },
      "source": [
        "##  Model Saving"
      ]
    },
    {
      "cell_type": "code",
      "metadata": {
        "ExecuteTime": {
          "end_time": "2019-05-25T15:40:10.883700Z",
          "start_time": "2019-05-25T15:40:10.283696Z"
        },
        "id": "FygLAXOL0Udp"
      },
      "source": [
        "cnn.save('CNN-MNIST.h5')"
      ],
      "execution_count": null,
      "outputs": []
    },
    {
      "cell_type": "code",
      "metadata": {
        "id": "Je0csRlO0Udr"
      },
      "source": [
        ""
      ],
      "execution_count": null,
      "outputs": []
    }
  ]
}